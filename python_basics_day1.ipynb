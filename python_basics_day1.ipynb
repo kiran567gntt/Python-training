{
  "nbformat": 4,
  "nbformat_minor": 0,
  "metadata": {
    "colab": {
      "provenance": []
    },
    "kernelspec": {
      "name": "python3",
      "display_name": "Python 3"
    },
    "language_info": {
      "name": "python"
    }
  },
  "cells": [
    {
      "cell_type": "code",
      "source": [
        "url =[\"http://www.myntra.com\",\"http://ajio.com\",\"http://cricbuzz.com\"]\n",
        "\n",
        "for i in url:\n",
        "  i = i.lstrip(\"http/w.\")\n",
        "  print(i)"
      ],
      "metadata": {
        "id": "TI19eGTyKCgi",
        "outputId": "49318eb8-f918-4994-9841-8503c8e73bd9",
        "colab": {
          "base_uri": "https://localhost:8080/"
        }
      },
      "execution_count": 24,
      "outputs": [
        {
          "output_type": "stream",
          "name": "stdout",
          "text": [
            "://www.myntra.com\n",
            "://ajio.com\n",
            "://cricbuzz.com\n"
          ]
        }
      ]
    },
    {
      "cell_type": "code",
      "source": [
        "# lstrip\n",
        "\n",
        "name = input(\"enter your name\")\n",
        "print(name)\n",
        "\n",
        "name= name.lstrip()\n",
        "print(name)"
      ],
      "metadata": {
        "colab": {
          "base_uri": "https://localhost:8080/"
        },
        "id": "2DRnrSY-JowC",
        "outputId": "10ce5940-d124-456a-bd5a-94beddfcdcd6"
      },
      "execution_count": 21,
      "outputs": [
        {
          "output_type": "stream",
          "name": "stdout",
          "text": [
            "enter your name  wxy\n",
            "  wxy\n",
            "wxy\n"
          ]
        }
      ]
    },
    {
      "cell_type": "code",
      "source": [
        "# endswith\n",
        "\n",
        "str=input(\"Enter a Website : \")\n",
        "if str.endswith(\"com\"):\n",
        "  print(\"commercial website\")\n",
        "elif str.endswith(\"edu\"):\n",
        "  print(\"educational website\")\n"
      ],
      "metadata": {
        "colab": {
          "base_uri": "https://localhost:8080/"
        },
        "id": "tQelkWsHGcXo",
        "outputId": "bc0f3cbe-5ae2-43a2-919f-80feaaa842bb"
      },
      "execution_count": 12,
      "outputs": [
        {
          "output_type": "stream",
          "name": "stdout",
          "text": [
            "Enter a Website : edu\n",
            "educational website\n"
          ]
        }
      ]
    },
    {
      "cell_type": "code",
      "source": [
        "# startswith\n",
        "\n",
        "str=input(\"Enter a mobile no : \")\n",
        "\n",
        "if str.startswith(\"91\"):\n",
        "  print(\"india\")\n",
        "elif str.startswith(\"92\"):\n",
        "  print(\"pak\")\n"
      ],
      "metadata": {
        "colab": {
          "base_uri": "https://localhost:8080/"
        },
        "id": "OYg2wZ2GHl8K",
        "outputId": "a840f8fd-f5ed-4701-a822-d78ac994e962"
      },
      "execution_count": 18,
      "outputs": [
        {
          "output_type": "stream",
          "name": "stdout",
          "text": [
            "Enter a mobile no : 9212345678\n",
            "pak\n"
          ]
        }
      ]
    },
    {
      "cell_type": "code",
      "source": [
        "# pallindrome check\n",
        "\n",
        "str =input(\"enter a string\")\n",
        "rev = str[::-1]\n",
        "\n",
        "if str == rev:\n",
        "  print(\"pallindrome\")\n",
        "else:\n",
        "  print(\"not pallindrome\")\n"
      ],
      "metadata": {
        "colab": {
          "base_uri": "https://localhost:8080/"
        },
        "id": "zay9qOZ85spo",
        "outputId": "6fd2ae27-0db0-49e7-f731-954da7fcef44"
      },
      "execution_count": 8,
      "outputs": [
        {
          "output_type": "stream",
          "name": "stdout",
          "text": [
            "enter a stringhai\n",
            "not pallindrome\n"
          ]
        }
      ]
    },
    {
      "cell_type": "code",
      "source": [
        "# reverse a string using slicing\n",
        "\n",
        "s =\"bangalore\"\n",
        "print(s)\n",
        "print(s[::-1])"
      ],
      "metadata": {
        "colab": {
          "base_uri": "https://localhost:8080/"
        },
        "id": "XXQDP6ye3hPJ",
        "outputId": "db11763b-3c5f-4a7b-8c95-95d275776020"
      },
      "execution_count": 6,
      "outputs": [
        {
          "output_type": "stream",
          "name": "stdout",
          "text": [
            "bangalore\n",
            "erolagnab\n"
          ]
        }
      ]
    },
    {
      "cell_type": "code",
      "source": [
        "# nested for loop\n",
        "\n",
        "for i in \"BLR\":\n",
        "  print(\"outer loop\")\n",
        "  for j in [10,20,30]:\n",
        "    print(\"inner loop\")\n",
        "    print(i,j)\n",
        "\n",
        "    print(\"inner loop\")\n",
        "    print(i,j)"
      ],
      "metadata": {
        "id": "c7cTdriW1fbC"
      },
      "execution_count": null,
      "outputs": []
    },
    {
      "cell_type": "code",
      "source": [
        "# while loop odd numbers 1 to 100\n",
        "i = 1\n",
        "\n",
        "while i<=100:\n",
        "  print (i)\n",
        "  i = i + 2"
      ],
      "metadata": {
        "id": "Xl3y_Azo31Om"
      },
      "execution_count": null,
      "outputs": []
    },
    {
      "cell_type": "code",
      "source": [
        "# while loop\n",
        "\n",
        "i = 5\n",
        "\n",
        "while i<=50:\n",
        "  print (i)\n",
        "  i = i + 5"
      ],
      "metadata": {
        "id": "AxHiAJoq3FiG"
      },
      "execution_count": null,
      "outputs": []
    },
    {
      "cell_type": "code",
      "source": [
        "# if else conditions check\n",
        "\n",
        "age = int(input(\"enter your age\"))\n",
        "\n",
        "if age >= 18:\n",
        "  print(\"welcome to vote\")\n",
        "  print(\"you can vote\")\n",
        "else:\n",
        "  print(\"you cannot vote\")\n",
        "\n",
        "print(\"Thank you\")\n"
      ],
      "metadata": {
        "id": "KW4Uqdz_tKs3"
      },
      "execution_count": null,
      "outputs": []
    },
    {
      "cell_type": "code",
      "source": [
        "# negative slicing\n",
        "\n",
        "s =\"bangalore\"\n",
        "\n",
        "print(s[-1:-4:-1])\n",
        "print(s[-1:-8:-1])\n",
        "print(s[-1::-1])\n"
      ],
      "metadata": {
        "id": "RCPhXTCPKt97"
      },
      "execution_count": null,
      "outputs": []
    },
    {
      "cell_type": "code",
      "source": [
        "# positive slicing\n",
        "\n",
        "s =\"bangalore\"\n",
        "\n",
        "print(s[0:4])\n",
        "print(s[1:4])\n",
        "print(s[2:4])\n",
        "print(s[0:4:1])\n",
        "print(s[1:4:1])\n",
        "print(s[0:4:2])\n",
        "print(s[1:4:2])\n",
        "print(s[2:4])\n",
        "print(s[0::1])\n",
        "print(s[::])"
      ],
      "metadata": {
        "colab": {
          "base_uri": "https://localhost:8080/"
        },
        "collapsed": true,
        "id": "PjXVdiArJnSV",
        "outputId": "71c7cef0-2ac9-4ef7-b588-21558725c87c"
      },
      "execution_count": 3,
      "outputs": [
        {
          "output_type": "stream",
          "name": "stdout",
          "text": [
            "bang\n",
            "ang\n",
            "ng\n",
            "bang\n",
            "ang\n",
            "bn\n",
            "ag\n",
            "ng\n",
            "bangalore\n",
            "bangalore\n"
          ]
        }
      ]
    },
    {
      "cell_type": "code",
      "source": [
        "a=10\n",
        "print(a)\n",
        "print(\"a=\",id(a))\n",
        "\n",
        "b=10\n",
        "print(b)\n",
        "print(\"b=\", id(b))\n",
        "\n",
        "c=a\n",
        "print(c)\n",
        "print(\"c=\", id(c))"
      ],
      "metadata": {
        "id": "ceQpskjVJw-r"
      },
      "execution_count": null,
      "outputs": []
    },
    {
      "cell_type": "code",
      "execution_count": null,
      "metadata": {
        "id": "fooBKl8FmcO4"
      },
      "outputs": [],
      "source": [
        "# Welcome to Python\n",
        "\n",
        "print(\"welcome to Python world\")"
      ]
    }
  ]
}